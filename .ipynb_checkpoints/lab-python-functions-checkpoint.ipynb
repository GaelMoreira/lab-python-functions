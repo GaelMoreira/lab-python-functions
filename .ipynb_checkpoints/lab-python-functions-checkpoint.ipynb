{
 "cells": [
  {
   "cell_type": "markdown",
   "id": "25d7736c-ba17-4aff-b6bb-66eba20fbf4e",
   "metadata": {},
   "source": [
    "# Lab | Functions"
   ]
  },
  {
   "cell_type": "markdown",
   "id": "0c581062-8967-4d93-b06e-62833222f930",
   "metadata": {
    "tags": []
   },
   "source": [
    "## Exercise: Managing Customer Orders with Functions\n",
    "\n",
    "In the previous exercise, you improved the code for managing customer orders by using loops and flow control. Now, let's take it a step further and refactor the code by introducing functions.\n",
    "\n",
    "Follow the steps below to complete the exercise:\n",
    "\n",
    "1. Define a function named `initialize_inventory` that takes `products` as a parameter. Inside the function, implement the code for initializing the inventory dictionary using a loop and user input.\n",
    "\n",
    "2. Define a function named `get_customer_orders` that takes no parameters. Inside the function, implement the code for prompting the user to enter the product names using a loop. The function should return the `customer_orders` set.\n",
    "\n",
    "3. Define a function named `update_inventory` that takes `customer_orders` and `inventory` as parameters. Inside the function, implement the code for updating the inventory dictionary based on the customer orders.\n",
    "\n",
    "4. Define a function named `calculate_order_statistics` that takes `customer_orders` and `products` as parameters. Inside the function, implement the code for calculating the order statistics (total products ordered, and percentage of unique products ordered). The function should return these values.\n",
    "\n",
    "5. Define a function named `print_order_statistics` that takes `order_statistics` as a parameter. Inside the function, implement the code for printing the order statistics.\n",
    "\n",
    "6. Define a function named `print_updated_inventory` that takes `inventory` as a parameter. Inside the function, implement the code for printing the updated inventory.\n",
    "\n",
    "7. Call the functions in the appropriate sequence to execute the program and manage customer orders.\n",
    "\n",
    "Hints for functions:\n",
    "\n",
    "- Consider the input parameters required for each function and their return values.\n",
    "- Utilize function parameters and return values to transfer data between functions.\n",
    "- Test your functions individually to ensure they work correctly.\n",
    "\n",
    "\n"
   ]
  },
  {
   "cell_type": "code",
   "execution_count": 1,
   "id": "af1a5879-b2d5-44b4-bc82-a731330363ea",
   "metadata": {},
   "outputs": [],
   "source": [
    "#1\n",
    "products = [\"tshirt\", \"mug\", \"hat\", \"book\", \"keychain\"]\n",
    "inventory = {}\n",
    "def initialize_invenotry(products):\n",
    "    for product in products:\n",
    "        inventory[product] = int(input(\"how many stock are: \"))\n",
    "    return inventory"
   ]
  },
  {
   "cell_type": "code",
   "execution_count": 2,
   "id": "8f945df0-c0a3-4619-b532-78b0e8fc86c4",
   "metadata": {},
   "outputs": [
    {
     "name": "stdin",
     "output_type": "stream",
     "text": [
      "how many stock are:  5\n",
      "how many stock are:  4\n",
      "how many stock are:  6\n",
      "how many stock are:  4\n",
      "how many stock are:  7\n"
     ]
    },
    {
     "data": {
      "text/plain": [
       "{'tshirt': 5, 'mug': 4, 'hat': 6, 'book': 4, 'keychain': 7}"
      ]
     },
     "execution_count": 2,
     "metadata": {},
     "output_type": "execute_result"
    }
   ],
   "source": [
    "#7\n",
    "initialize_invenotry(products)"
   ]
  },
  {
   "cell_type": "code",
   "execution_count": 3,
   "id": "8fb2dba2-3c39-4355-b4ca-202203a94539",
   "metadata": {},
   "outputs": [],
   "source": [
    "#2\n",
    "custumer_orders = set()\n",
    "def get_customer_orders():\n",
    "    another_product = input(\"what product do you whant to add?:\")\n",
    "    custumer_orders.add(another_product)\n",
    "    choice = input(\"do you want to add it?.\")\n",
    "    while choice == \"yes\":\n",
    "        another_product = input(\"what product do you whant to add?:\")\n",
    "        custumer_orders.add(another_product)\n",
    "        choice = input(\"do you want to add it?.\")\n",
    "    if choice == \"no\":\n",
    "        print(\"thank for shoping\")\n",
    "    return custumer_orders"
   ]
  },
  {
   "cell_type": "code",
   "execution_count": 4,
   "id": "631995d8-12e8-4801-8fd4-752f9636b7e6",
   "metadata": {},
   "outputs": [
    {
     "name": "stdin",
     "output_type": "stream",
     "text": [
      "what product do you whant to add?: tshirt\n",
      "do you want to add it?. yes\n",
      "what product do you whant to add?: mug\n",
      "do you want to add it?. yes\n",
      "what product do you whant to add?: hat\n",
      "do you want to add it?. no\n"
     ]
    },
    {
     "name": "stdout",
     "output_type": "stream",
     "text": [
      "thank for shoping\n"
     ]
    },
    {
     "data": {
      "text/plain": [
       "{'hat', 'mug', 'tshirt'}"
      ]
     },
     "execution_count": 4,
     "metadata": {},
     "output_type": "execute_result"
    }
   ],
   "source": [
    "get_customer_orders()"
   ]
  },
  {
   "cell_type": "code",
   "execution_count": 5,
   "id": "69b04046-cd0e-4d15-9053-0edd0948a49c",
   "metadata": {},
   "outputs": [],
   "source": [
    "#3\n",
    "def update_inventory(custumer_orders, inventory):\n",
    "    for product in custumer_orders:\n",
    "        if product in inventory.keys():\n",
    "            inventory[product] -= 1\n",
    "    return inventory"
   ]
  },
  {
   "cell_type": "code",
   "execution_count": 6,
   "id": "87837eb8-d7cf-46a3-8ae7-b75a97763e96",
   "metadata": {},
   "outputs": [
    {
     "data": {
      "text/plain": [
       "{'tshirt': 4, 'mug': 3, 'hat': 5, 'book': 4, 'keychain': 7}"
      ]
     },
     "execution_count": 6,
     "metadata": {},
     "output_type": "execute_result"
    }
   ],
   "source": [
    "update_inventory(custumer_orders, inventory)"
   ]
  },
  {
   "cell_type": "code",
   "execution_count": 7,
   "id": "9097a67e-4ec0-47a9-b3c1-d7cffc8d489e",
   "metadata": {},
   "outputs": [
    {
     "data": {
      "text/plain": [
       "5"
      ]
     },
     "execution_count": 7,
     "metadata": {},
     "output_type": "execute_result"
    }
   ],
   "source": [
    "len(update_inventory(custumer_orders, inventory))"
   ]
  },
  {
   "cell_type": "code",
   "execution_count": 8,
   "id": "2ffb82e1-2b51-4cac-9a4d-2cacee3a6f17",
   "metadata": {},
   "outputs": [
    {
     "data": {
      "text/plain": [
       "3"
      ]
     },
     "execution_count": 8,
     "metadata": {},
     "output_type": "execute_result"
    }
   ],
   "source": [
    "len(custumer_orders)"
   ]
  },
  {
   "cell_type": "code",
   "execution_count": 9,
   "id": "0d4321ce-11e0-4833-85cd-08f850172d4e",
   "metadata": {},
   "outputs": [
    {
     "data": {
      "text/plain": [
       "{'hat', 'mug', 'tshirt'}"
      ]
     },
     "execution_count": 9,
     "metadata": {},
     "output_type": "execute_result"
    }
   ],
   "source": [
    "custumer_orders"
   ]
  },
  {
   "cell_type": "code",
   "execution_count": 10,
   "id": "d229e0c9-a992-402b-8af7-c995181b5acf",
   "metadata": {},
   "outputs": [
    {
     "data": {
      "text/plain": [
       "['tshirt', 'mug', 'hat', 'book', 'keychain']"
      ]
     },
     "execution_count": 10,
     "metadata": {},
     "output_type": "execute_result"
    }
   ],
   "source": [
    "products"
   ]
  },
  {
   "cell_type": "code",
   "execution_count": 29,
   "id": "e92911fb-d9a2-4506-afa6-de1f7875abae",
   "metadata": {},
   "outputs": [],
   "source": [
    "#4\n",
    "def calculate_order_statistics(custumer_orders, products):\n",
    "    percentage_orders = (len(custumer_orders) / len(products)) * 100\n",
    "    return percentage_orders,\"%\"\n",
    "    \n",
    "    \n"
   ]
  },
  {
   "cell_type": "code",
   "execution_count": 30,
   "id": "d546d0f3-2e73-4725-96db-7d362f9cb64d",
   "metadata": {},
   "outputs": [
    {
     "data": {
      "text/plain": [
       "(60.0, '%')"
      ]
     },
     "execution_count": 30,
     "metadata": {},
     "output_type": "execute_result"
    }
   ],
   "source": [
    "calculate_order_statistics(custumer_orders, products)"
   ]
  },
  {
   "cell_type": "code",
   "execution_count": 31,
   "id": "da1c8237-990e-4f23-9950-9849004fea42",
   "metadata": {},
   "outputs": [],
   "source": [
    "def print_order_statistics(order_statistics):\n",
    "    order_statistics = (len(custumer_orders) / len(products)) * 100\n",
    "    return \"el porcentaje es del\", order_statistics,\"%\""
   ]
  },
  {
   "cell_type": "code",
   "execution_count": 32,
   "id": "b3579243-9149-4ccc-bcf2-9980fdea1dba",
   "metadata": {},
   "outputs": [
    {
     "ename": "NameError",
     "evalue": "name 'order_statistics' is not defined",
     "output_type": "error",
     "traceback": [
      "\u001b[1;31m---------------------------------------------------------------------------\u001b[0m",
      "\u001b[1;31mNameError\u001b[0m                                 Traceback (most recent call last)",
      "Cell \u001b[1;32mIn[32], line 1\u001b[0m\n\u001b[1;32m----> 1\u001b[0m print_order_statistics(order_statistics)\n",
      "\u001b[1;31mNameError\u001b[0m: name 'order_statistics' is not defined"
     ]
    }
   ],
   "source": [
    "print_order_statistics(order_statistics)"
   ]
  },
  {
   "cell_type": "code",
   "execution_count": null,
   "id": "99eeeedc-604a-488b-b263-36585bf82c20",
   "metadata": {},
   "outputs": [],
   "source": []
  },
  {
   "cell_type": "code",
   "execution_count": null,
   "id": "338f18e5-11ad-459d-98a5-0d0d739b1afc",
   "metadata": {},
   "outputs": [],
   "source": []
  },
  {
   "cell_type": "code",
   "execution_count": null,
   "id": "775e50f3-82cd-4c88-b0e5-ee312bd62deb",
   "metadata": {},
   "outputs": [],
   "source": []
  },
  {
   "cell_type": "code",
   "execution_count": null,
   "id": "c76c702c-b019-4432-8206-470147e06fb5",
   "metadata": {},
   "outputs": [],
   "source": []
  },
  {
   "cell_type": "code",
   "execution_count": null,
   "id": "f9a39c27-9f99-4f24-aaae-e513d33d757d",
   "metadata": {},
   "outputs": [],
   "source": []
  },
  {
   "cell_type": "code",
   "execution_count": null,
   "id": "0c789794-ab94-48b4-99d9-79bf2dfeda94",
   "metadata": {},
   "outputs": [],
   "source": []
  }
 ],
 "metadata": {
  "kernelspec": {
   "display_name": "Python 3 (ipykernel)",
   "language": "python",
   "name": "python3"
  },
  "language_info": {
   "codemirror_mode": {
    "name": "ipython",
    "version": 3
   },
   "file_extension": ".py",
   "mimetype": "text/x-python",
   "name": "python",
   "nbconvert_exporter": "python",
   "pygments_lexer": "ipython3",
   "version": "3.12.4"
  }
 },
 "nbformat": 4,
 "nbformat_minor": 5
}
